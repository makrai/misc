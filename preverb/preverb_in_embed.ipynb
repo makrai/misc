{
 "cells": [
  {
   "cell_type": "markdown",
   "metadata": {},
   "source": [
    "# Mi az igekötő?\n",
    "## Egy házifeladat felé, Kálmán & Lagos 2018/19-es órájára"
   ]
  },
  {
   "cell_type": "code",
   "execution_count": 1,
   "metadata": {
    "collapsed": true
   },
   "outputs": [],
   "source": [
    "from gensim.models import KeyedVectors"
   ]
  },
  {
   "cell_type": "code",
   "execution_count": 5,
   "metadata": {
    "collapsed": true
   },
   "outputs": [],
   "source": [
    "huten = KeyedVectors.load('/mnt/permanent/Language/Hungarian/Embed/huTenTen/huTenTen-cbow-300-w5-i5-m5.gensim')"
   ]
  },
  {
   "cell_type": "markdown",
   "metadata": {},
   "source": [
    "Első közelítésünk _tanulás első látásra_ jellegű: igekötő az, ami olyan, mint a _meg_. Ez nem biztos, hogy jó lesz, mert a _meg_ kötőszó is."
   ]
  },
  {
   "cell_type": "code",
   "execution_count": 33,
   "metadata": {},
   "outputs": [],
   "source": [
    "def print_neighbors(meg):\n",
    "    return ' '.join(tup[0] for tup in huten.most_similar(meg, restrict_vocab=10000, topn=20))"
   ]
  },
  {
   "cell_type": "code",
   "execution_count": 34,
   "metadata": {},
   "outputs": [
    {
     "data": {
      "text/plain": [
       "'Meg le ki félre be vissza szét fel el bele miért csak rá hiába halálra senki föl Ki , végig'"
      ]
     },
     "execution_count": 34,
     "metadata": {},
     "output_type": "execute_result"
    }
   ],
   "source": [
    "print_neighbors('meg')"
   ]
  },
  {
   "cell_type": "markdown",
   "metadata": {},
   "source": [
    "A _miért_-et nem szeretném igekötőnek tekinteni. Legyen inkább az _el_ a prototípus!"
   ]
  },
  {
   "cell_type": "code",
   "execution_count": 35,
   "metadata": {},
   "outputs": [
    {
     "data": {
      "text/plain": [
       "'El vissza le haza be ki szét tovább meg fel végig oda át eszébe magába föl bele eszünkbe útnak célba'"
      ]
     },
     "execution_count": 35,
     "metadata": {},
     "output_type": "execute_result"
    }
   ],
   "source": [
    "print_neighbors('el')"
   ]
  },
  {
   "cell_type": "markdown",
   "metadata": {},
   "source": [
    "Az _eszünkbe_ sem tipikus igekötő, a ragozhatóság jelzi, hogy még őrzi az eredeti szemantikát (_get into one's mind_ -- alighanem egy angol is megértené így)"
   ]
  },
  {
   "cell_type": "code",
   "execution_count": 36,
   "metadata": {},
   "outputs": [
    {
     "data": {
      "text/plain": [
       "'le be szét fel vissza föl Ki elő át meg össze félre el tovább haza egybe bele hová szembe rendbe'"
      ]
     },
     "execution_count": 36,
     "metadata": {},
     "output_type": "execute_result"
    }
   ],
   "source": [
    "print_neighbors('ki')"
   ]
  },
  {
   "cell_type": "code",
   "execution_count": 37,
   "metadata": {},
   "outputs": [
    {
     "data": {
      "text/plain": [
       "'föl Fel ki elő be vissza át le elénk szét félre számba össze körbe észre közre biztosra rendbe elém kézbe'"
      ]
     },
     "execution_count": 37,
     "metadata": {},
     "output_type": "execute_result"
    }
   ],
   "source": [
    "print_neighbors('fel')"
   ]
  }
 ],
 "metadata": {
  "kernelspec": {
   "display_name": "Python 3",
   "language": "python",
   "name": "python3"
  },
  "language_info": {
   "codemirror_mode": {
    "name": "ipython",
    "version": 3
   },
   "file_extension": ".py",
   "mimetype": "text/x-python",
   "name": "python",
   "nbconvert_exporter": "python",
   "pygments_lexer": "ipython3",
   "version": "3.4.2"
  }
 },
 "nbformat": 4,
 "nbformat_minor": 2
}
