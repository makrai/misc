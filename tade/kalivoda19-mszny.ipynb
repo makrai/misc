{
 "cells": [
  {
   "cell_type": "code",
   "execution_count": 5,
   "metadata": {},
   "outputs": [
    {
     "name": "stdout",
     "output_type": "stream",
     "text": [
      "Populating the interactive namespace from numpy and matplotlib\n"
     ]
    }
   ],
   "source": [
    "import pandas as pd\n",
    "\n",
    "import matplotlib.pyplot as plt\n",
    "%pylab inline\n",
    "pylab.rcParams['figure.figsize'] = (10, 6)"
   ]
  },
  {
   "cell_type": "code",
   "execution_count": 3,
   "metadata": {},
   "outputs": [],
   "source": [
    "prev_lex = pd.read_csv('/mnt/permanent/Language/Hungarian/Dic/prevlex_productive-kalivoda19-mszny.tsv', sep='\\t')"
   ]
  },
  {
   "cell_type": "code",
   "execution_count": 15,
   "metadata": {},
   "outputs": [
    {
     "data": {
      "text/html": [
       "<div>\n",
       "<style scoped>\n",
       "    .dataframe tbody tr th:only-of-type {\n",
       "        vertical-align: middle;\n",
       "    }\n",
       "\n",
       "    .dataframe tbody tr th {\n",
       "        vertical-align: top;\n",
       "    }\n",
       "\n",
       "    .dataframe thead th {\n",
       "        text-align: right;\n",
       "    }\n",
       "</style>\n",
       "<table border=\"1\" class=\"dataframe\">\n",
       "  <thead>\n",
       "    <tr style=\"text-align: right;\">\n",
       "      <th></th>\n",
       "      <th>prt</th>\n",
       "      <th>tokenfreq</th>\n",
       "      <th>typefreq</th>\n",
       "      <th>hapaxfreq</th>\n",
       "      <th>preal</th>\n",
       "      <th>pexp</th>\n",
       "      <th>ppot</th>\n",
       "    </tr>\n",
       "  </thead>\n",
       "  <tbody>\n",
       "    <tr>\n",
       "      <th>1</th>\n",
       "      <td>el</td>\n",
       "      <td>2256306</td>\n",
       "      <td>5393</td>\n",
       "      <td>2048</td>\n",
       "      <td>0.1017</td>\n",
       "      <td>0.0966</td>\n",
       "      <td>0.0009</td>\n",
       "    </tr>\n",
       "    <tr>\n",
       "      <th>0</th>\n",
       "      <td>meg</td>\n",
       "      <td>3427572</td>\n",
       "      <td>5205</td>\n",
       "      <td>1747</td>\n",
       "      <td>0.0981</td>\n",
       "      <td>0.0824</td>\n",
       "      <td>0.0005</td>\n",
       "    </tr>\n",
       "    <tr>\n",
       "      <th>5</th>\n",
       "      <td>le</td>\n",
       "      <td>719154</td>\n",
       "      <td>4564</td>\n",
       "      <td>1899</td>\n",
       "      <td>0.0861</td>\n",
       "      <td>0.0895</td>\n",
       "      <td>0.0026</td>\n",
       "    </tr>\n",
       "    <tr>\n",
       "      <th>2</th>\n",
       "      <td>ki</td>\n",
       "      <td>1351134</td>\n",
       "      <td>4493</td>\n",
       "      <td>1561</td>\n",
       "      <td>0.0847</td>\n",
       "      <td>0.0736</td>\n",
       "      <td>0.0012</td>\n",
       "    </tr>\n",
       "    <tr>\n",
       "      <th>4</th>\n",
       "      <td>be</td>\n",
       "      <td>908058</td>\n",
       "      <td>4170</td>\n",
       "      <td>1525</td>\n",
       "      <td>0.0786</td>\n",
       "      <td>0.0719</td>\n",
       "      <td>0.0017</td>\n",
       "    </tr>\n",
       "    <tr>\n",
       "      <th>3</th>\n",
       "      <td>fel</td>\n",
       "      <td>940219</td>\n",
       "      <td>3004</td>\n",
       "      <td>1004</td>\n",
       "      <td>0.0566</td>\n",
       "      <td>0.0473</td>\n",
       "      <td>0.0011</td>\n",
       "    </tr>\n",
       "    <tr>\n",
       "      <th>7</th>\n",
       "      <td>át</td>\n",
       "      <td>282861</td>\n",
       "      <td>2206</td>\n",
       "      <td>863</td>\n",
       "      <td>0.0416</td>\n",
       "      <td>0.0407</td>\n",
       "      <td>0.0031</td>\n",
       "    </tr>\n",
       "    <tr>\n",
       "      <th>12</th>\n",
       "      <td>bele</td>\n",
       "      <td>145766</td>\n",
       "      <td>2168</td>\n",
       "      <td>840</td>\n",
       "      <td>0.0409</td>\n",
       "      <td>0.0396</td>\n",
       "      <td>0.0058</td>\n",
       "    </tr>\n",
       "  </tbody>\n",
       "</table>\n",
       "</div>"
      ],
      "text/plain": [
       "     prt  tokenfreq  typefreq  hapaxfreq   preal    pexp    ppot\n",
       "1     el    2256306      5393       2048  0.1017  0.0966  0.0009\n",
       "0    meg    3427572      5205       1747  0.0981  0.0824  0.0005\n",
       "5     le     719154      4564       1899  0.0861  0.0895  0.0026\n",
       "2     ki    1351134      4493       1561  0.0847  0.0736  0.0012\n",
       "4     be     908058      4170       1525  0.0786  0.0719  0.0017\n",
       "3    fel     940219      3004       1004  0.0566  0.0473  0.0011\n",
       "7     át     282861      2206        863  0.0416  0.0407  0.0031\n",
       "12  bele     145766      2168        840  0.0409  0.0396  0.0058"
      ]
     },
     "execution_count": 15,
     "metadata": {},
     "output_type": "execute_result"
    }
   ],
   "source": [
    "prev_lex.sort_values(by='preal', ascending=False).head(n=8)"
   ]
  },
  {
   "cell_type": "code",
   "execution_count": 6,
   "metadata": {},
   "outputs": [
    {
     "data": {
      "text/plain": [
       "<matplotlib.collections.PathCollection at 0x7f8c2c1c9048>"
      ]
     },
     "execution_count": 6,
     "metadata": {},
     "output_type": "execute_result"
    },
    {
     "data": {
      "image/png": "[encoded data removed]",
      "text/plain": [
       "<matplotlib.figure.Figure at 0x7f8c2c47c908>"
      ]
     },
     "metadata": {},
     "output_type": "display_data"
    }
   ],
   "source": [
    "plt.scatter(prev_lex['preal'], prev_lex['pexp'])"
   ]
  },
  {
   "cell_type": "markdown",
   "metadata": {},
   "source": [
    "Az első 5-6 igekötő mindkét mérték szerint kiugróan produktívabb, mint a többi. A kétféle produtivitás  egyenesen arányos, csak a _meg_, a _le_, és kevésbé a _fel_ lóg ki, a _meg_ és a _fel_ a várt, a _le_ pedig a valódi produktivitás javára."
   ]
  },
  {
   "cell_type": "raw",
   "metadata": {},
   "source": [
    "plt.scatter(prev_lex['preal']+1, prev_lex['pexp']+1)\n",
    "plt.xscale('log')\n",
    "plt.yscale('log')"
   ]
  }
 ],
 "metadata": {
  "kernelspec": {
   "display_name": "Python 3",
   "language": "python",
   "name": "python3"
  },
  "language_info": {
   "codemirror_mode": {
    "name": "ipython",
    "version": 3
   },
   "file_extension": ".py",
   "mimetype": "text/x-python",
   "name": "python",
   "nbconvert_exporter": "python",
   "pygments_lexer": "ipython3",
   "version": "3.4.2"
  }
 },
 "nbformat": 4,
 "nbformat_minor": 2
}
