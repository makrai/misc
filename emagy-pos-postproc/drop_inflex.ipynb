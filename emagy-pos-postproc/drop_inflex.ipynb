{
 "cells": [
  {
   "cell_type": "code",
   "execution_count": 45,
   "metadata": {
    "collapsed": true
   },
   "outputs": [],
   "source": [
    "from collections import defaultdict\n",
    "import glob\n",
    "import gzip\n",
    "import operator\n",
    "import os\n",
    "import re\n",
    "\n",
    "import logging\n",
    "logging.basicConfig(\n",
    "    format=\"%(asctime)s %(module)s (%(lineno)s) %(levelname)s %(message)s\",\n",
    "    level=logging.DEBUG)\n",
    "\n",
    "from disambig import zwrite_sorted"
   ]
  },
  {
   "cell_type": "code",
   "execution_count": 64,
   "metadata": {
    "collapsed": true
   },
   "outputs": [],
   "source": [
    "def zwrite_sorted(freq_dict, outfilen):\n",
    "    with gzip.open(outfilen, mode='w') as outfile:\n",
    "        for (lemma, pos, anal), freq in sorted(freq_dict.items(), key=operator.itemgetter(1), reverse=True):\n",
    "            outfile.write('{}\\t{}\\t{}\\t{}\\n'.format(freq, lemma, pos, anal).encode('utf-8'))"
   ]
  },
  {
   "cell_type": "code",
   "execution_count": 65,
   "metadata": {},
   "outputs": [
    {
     "name": "stderr",
     "output_type": "stream",
     "text": [
      "2018-10-08 15:05:06,178 <ipython-input-65-c9d4e2797ea4> (4) INFO /mnt/permanent/Language/Hungarian/Crawl/Web2/emagyar_pos/disamb/web2-4p-4-32.gz\n"
     ]
    }
   ],
   "source": [
    "proj_dir = '/mnt/permanent/home/makrai/data/tmp_webkorp_emagy_pos_without_inflex/'\n",
    "freq = defaultdict(int)\n",
    "for infilen in glob.glob('/mnt/permanent/Language/Hungarian/Crawl/Web2/emagyar_pos/disamb/web2-4p-*.gz'):\n",
    "    logging.info(infilen)\n",
    "    with gzip.open(infilen) as infile, \\\n",
    "            gzip.open(os.path.join(proj_dir, os.path.basename(infilen)), mode='w') as outfile:\n",
    "        for line in infile:\n",
    "            if not line.strip():\n",
    "                #outfile.write(line)\n",
    "                continue\n",
    "            vals = line.strip().decode('utf-8').split(sep='\\t')\n",
    "            if len(vals) ==3:\n",
    "                # Marmokannájuk\n",
    "                # outfile.write()\n",
    "                continue\n",
    "            form, lemma, pos, ana = vals\n",
    "            if pos == 'OTHER':\n",
    "                continue\n",
    "            if re.search('[,+]', form):\n",
    "                # e.g. 8,5\n",
    "                continue\n",
    "            bracketed = '\\[[^\\]]*\\]'\n",
    "            pos = re.findall(bracketed, pos)[0]\n",
    "            deriv_anals = []\n",
    "            for disamb_anal in ana.split(','):\n",
    "                deriv_anal = []\n",
    "                for segment in disamb_anal.split('+'):\n",
    "                    if '=' in segment:\n",
    "                        # e.g. ('állít[/V]', 'állít')\n",
    "                        deep, surf = segment.rsplit('=', 1) \n",
    "                    else:\n",
    "                        # bug?, e.g. ők[/N|Pro]\n",
    "                        deep = segment\n",
    "                        surf = segment\n",
    "                    deep_cat = re.findall(bracketed, deep)[0]\n",
    "                    if '/' in deep_cat:\n",
    "                        deriv_anal.append(segment)\n",
    "                deriv_anals.append('+'.join(sorted(set(deriv_anal))))\n",
    "            freq[(lemma, pos, ','.join(sorted(set(deriv_anals))))] += 1       \n",
    "zwrite_sorted(freq, 'freq.ztsv')            "
   ]
  }
 ],
 "metadata": {
  "kernelspec": {
   "display_name": "Python 3",
   "language": "python",
   "name": "python3"
  },
  "language_info": {
   "codemirror_mode": {
    "name": "ipython",
    "version": 3
   },
   "file_extension": ".py",
   "mimetype": "text/x-python",
   "name": "python",
   "nbconvert_exporter": "python",
   "pygments_lexer": "ipython3",
   "version": "3.4.2"
  }
 },
 "nbformat": 4,
 "nbformat_minor": 2
}
