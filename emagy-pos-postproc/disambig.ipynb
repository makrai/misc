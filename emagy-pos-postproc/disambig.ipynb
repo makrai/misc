{
 "cells": [
  {
   "cell_type": "code",
   "execution_count": null,
   "metadata": {
    "collapsed": true
   },
   "outputs": [],
   "source": [
    "from collections import defaultdict\n",
    "import glob\n",
    "import gzip\n",
    "import json\n",
    "import operator\n",
    "import os\n",
    "\n",
    "import logging\n",
    "logging.basicConfig(\n",
    "    format=\"%(asctime)s %(module)s (%(lineno)s) %(levelname)s %(message)s\",\n",
    "    level=logging.DEBUG)"
   ]
  },
  {
   "cell_type": "code",
   "execution_count": 1,
   "metadata": {
    "collapsed": true
   },
   "outputs": [],
   "source": [
    "def main():\n",
    "    form_freq = defaultdict(int)\n",
    "    lemma_freq = defaultdict(int)\n",
    "    for filen in os.listdir('..'):\n",
    "        if os.path.exists(filen):\n",
    "            logging.info('Skipping {}'.format(filen))\n",
    "            continue\n",
    "        logging.info('Writing {}'.format(filen))\n",
    "        with gzip.open(os.path.join('..', filen)) as infile, gzip.open(filen, mode='w') as outfile:\n",
    "            for line in infile:\n",
    "                if not line.strip():\n",
    "                    outfile.write(line)\n",
    "                    continue\n",
    "                else:\n",
    "                    vals = line.decode('utf-8').strip().split('\\t')\n",
    "                try:\n",
    "                    form, lemma, feats, lemma_feats_ana_json = vals\n",
    "                except:\n",
    "                    logging.warning('vals')\n",
    "                    continue\n",
    "                ana = []\n",
    "                if feats == 'OTHER':\n",
    "                    ana = [feats]\n",
    "                else:\n",
    "                    senses = json.loads(lemma_feats_ana_json)\n",
    "                    for sense_d in  senses:\n",
    "                        if sense_d['feats'] == feats:\n",
    "                            ana.append(sense_d['ana'])\n",
    "                if not ana:\n",
    "                    # Marmokannájuk\n",
    "                    pass\n",
    "                    #logging.warn(vals)\n",
    "                disamb_vals = (form, lemma, feats, ','.join(sorted(ana)))\n",
    "                form_freq[form] += 1\n",
    "                lemma_freq[disamb_vals] += 1\n",
    "                outfile.write('{}\\t{}\\t{}\\t{}\\n'.format(*disamb_vals).encode('utf8'))\n",
    "    zwrite_sorted(form_freq, 'form_freq.gz')\n",
    "    zwrite_sorted(lemma_freq, 'lemma_freq.gz')"
   ]
  }
 ],
 "metadata": {
  "kernelspec": {
   "display_name": "Python 3",
   "language": "python",
   "name": "python3"
  },
  "language_info": {
   "codemirror_mode": {
    "name": "ipython",
    "version": 3
   },
   "file_extension": ".py",
   "mimetype": "text/x-python",
   "name": "python",
   "nbconvert_exporter": "python",
   "pygments_lexer": "ipython3",
   "version": "3.4.2"
  }
 },
 "nbformat": 4,
 "nbformat_minor": 2
}
